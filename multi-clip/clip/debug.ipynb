{
 "cells": [
  {
   "cell_type": "code",
   "execution_count": 3,
   "metadata": {},
   "outputs": [
    {
     "ename": "ImportError",
     "evalue": "attempted relative import with no known parent package",
     "output_type": "error",
     "traceback": [
      "\u001b[0;31m---------------------------------------------------------------------------\u001b[0m",
      "\u001b[0;31mImportError\u001b[0m                               Traceback (most recent call last)",
      "\u001b[1;32m/home/chenzhongzhi/multi-clip/multi-clip/clip/debug.ipynb Cell 1\u001b[0m in \u001b[0;36m<cell line: 2>\u001b[0;34m()\u001b[0m\n\u001b[1;32m      <a href='vscode-notebook-cell://ssh-remote%2Bwudao.16-50g/home/chenzhongzhi/multi-clip/multi-clip/clip/debug.ipynb#W0sdnNjb2RlLXJlbW90ZQ%3D%3D?line=0'>1</a>\u001b[0m \u001b[39mimport\u001b[39;00m \u001b[39mtorch\u001b[39;00m\n\u001b[0;32m----> <a href='vscode-notebook-cell://ssh-remote%2Bwudao.16-50g/home/chenzhongzhi/multi-clip/multi-clip/clip/debug.ipynb#W0sdnNjb2RlLXJlbW90ZQ%3D%3D?line=1'>2</a>\u001b[0m \u001b[39mfrom\u001b[39;00m \u001b[39m.\u001b[39;00m\u001b[39mclip\u001b[39;00m \u001b[39mimport\u001b[39;00m build_eva_model_and_transforms, tokenize\n\u001b[1;32m      <a href='vscode-notebook-cell://ssh-remote%2Bwudao.16-50g/home/chenzhongzhi/multi-clip/multi-clip/clip/debug.ipynb#W0sdnNjb2RlLXJlbW90ZQ%3D%3D?line=2'>3</a>\u001b[0m \u001b[39mfrom\u001b[39;00m \u001b[39mPIL\u001b[39;00m \u001b[39mimport\u001b[39;00m Image\n\u001b[1;32m      <a href='vscode-notebook-cell://ssh-remote%2Bwudao.16-50g/home/chenzhongzhi/multi-clip/multi-clip/clip/debug.ipynb#W0sdnNjb2RlLXJlbW90ZQ%3D%3D?line=4'>5</a>\u001b[0m eva_clip_path \u001b[39m=\u001b[39m \u001b[39m\"\u001b[39m\u001b[39m/sharefs/baai-mrnd/sunquan/eva_clip_psz14.pt\u001b[39m\u001b[39m\"\u001b[39m\n",
      "\u001b[0;31mImportError\u001b[0m: attempted relative import with no known parent package"
     ]
    }
   ],
   "source": [
    "import torch\n",
    "from .clip import build_eva_model_and_transforms, tokenize\n",
    "from PIL import Image\n",
    "\n",
    "eva_clip_path = \"/sharefs/baai-mrnd/sunquan/eva_clip_psz14.pt\"\n",
    "model_name = \"EVA_CLIP_g_14\"\n",
    "image_path = \"some_image.jpg\"\n",
    "caption = [\"a diagram\", \"a dog\", \"a cat\"]\n",
    "\n",
    "device = \"cuda\" if torch.cuda.is_available() else \"cpu\"\n",
    "model, preprocess = build_eva_model_and_transforms(model_name, pretrained=eva_clip_path)\n",
    "\n",
    "image = preprocess(Image.open(image_path)).unsqueeze(0).to(device)\n",
    "text = tokenize(caption).to(device)\n",
    "\n",
    "with torch.no_grad():\n",
    "    image_features = model.encode_image(image)\n",
    "    text_features = model.encode_text(text)\n",
    "    \n",
    "    logits_per_image, logits_per_text = model(image, text)\n",
    "    probs = logits_per_image.softmax(dim=-1).cpu().numpy()\n",
    "\n",
    "print(\"Label probs:\", probs)  # prints: [[0.9927937  0.00421068 0.00299572]]"
   ]
  }
 ],
 "metadata": {
  "kernelspec": {
   "display_name": "Python 3.8.8 ('base')",
   "language": "python",
   "name": "python3"
  },
  "language_info": {
   "codemirror_mode": {
    "name": "ipython",
    "version": 3
   },
   "file_extension": ".py",
   "mimetype": "text/x-python",
   "name": "python",
   "nbconvert_exporter": "python",
   "pygments_lexer": "ipython3",
   "version": "3.8.8"
  },
  "orig_nbformat": 4,
  "vscode": {
   "interpreter": {
    "hash": "d4d1e4263499bec80672ea0156c357c1ee493ec2b1c70f0acce89fc37c4a6abe"
   }
  }
 },
 "nbformat": 4,
 "nbformat_minor": 2
}
