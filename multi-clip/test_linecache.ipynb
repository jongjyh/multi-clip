{
 "cells": [
  {
   "cell_type": "code",
   "execution_count": 7,
   "metadata": {},
   "outputs": [
    {
     "name": "stderr",
     "output_type": "stream",
     "text": [
      "Using custom data configuration default-8f9316c872fa533b\n",
      "Found cached dataset json (/home/chenzhongzhi/.cache/huggingface/datasets/json/default-8f9316c872fa533b/0.0.0/e6070c77f18f01a5ad4551a8b7edfba20b8438b7cad4d94e6ad9378022ce4aab)\n"
     ]
    },
    {
     "data": {
      "application/vnd.jupyter.widget-view+json": {
       "model_id": "a0dd5ed6c77e4397bca484a77bc94af8",
       "version_major": 2,
       "version_minor": 0
      },
      "text/plain": [
       "  0%|          | 0/1 [00:00<?, ?it/s]"
      ]
     },
     "metadata": {},
     "output_type": "display_data"
    }
   ],
   "source": [
    "import linecache\n",
    "import torch\n",
    "from torch.utils.data import Dataset,DataLoader\n",
    "import torch.nn as nn\n",
    "import datasets\n",
    "from transformers import AutoTokenizer\n",
    "import json\n",
    "\n",
    "\n",
    "class LazyTextDataset(Dataset):\n",
    "    def __init__(self, filename):\n",
    "        self._filename = filename\n",
    "        self._total_data = 0\n",
    "        self._tokenizer = AutoTokenizer.from_pretrained(\"xlmr-roberta-base\")\n",
    "        with open(filename, \"r\") as f:\n",
    "            self._total_data = len(f.readlines()) - 1\n",
    "\n",
    "    def __getitem__(self, idx):\n",
    "        line = linecache.getline(self._filename, idx + 1)\n",
    "        data = json.loads(line)\n",
    "        data = self._tokenizer([data],return_tensors='pt')\n",
    "        return data\n",
    "        \n",
    "    def __len__(self):\n",
    "        return self._total_data\n",
    "    \n",
    "class datasetsWrapper(Dataset):\n",
    "    def __init__(self, filename):\n",
    "        self._filename = filename\n",
    "        self._dataset = datasets.load_dataset(\"json\",data_files=[filename])['train']\n",
    "        self._total_data = len(self._dataset)\n",
    "        self._tokenizer = AutoTokenizer.from_pretrained(\"xlmr-roberta-base\")\n",
    "        \n",
    "    def preprocessing(self):\n",
    "        self._dataset = self._dataset.map(\n",
    "            preprocess,\n",
    "            with\n",
    "        )\n",
    "\n",
    "    def __getitem__(self, idx):\n",
    "        data = self._dataset[idx]\n",
    "        return data\n",
    "        \n",
    "    def __len__(self):\n",
    "        return self._total_data\n",
    "    \n",
    "\n",
    "filename = '/home/chenzhongzhi/czz/datasets/la13m_para5m_multilingual/laion2b_multi18lg/part-00054-66bc9e17-4cc9-4c76-aaed-af85e99e94d2-c000.snappy.json'\n",
    "lcache_dataset = LazyTextDataset(filename=filename)\n",
    "dsets_dataset = datasetsWrapper(filename=filename)\n",
    "\n"
   ]
  },
  {
   "cell_type": "code",
   "execution_count": 11,
   "metadata": {},
   "outputs": [
    {
     "name": "stderr",
     "output_type": "stream",
     "text": [
      "100%|██████████| 22255/22255 [01:10<00:00, 314.70it/s]\n",
      " 52%|█████▏    | 11485/22255 [07:57<07:25, 24.16it/s]"
     ]
    }
   ],
   "source": [
    "from time import time\n",
    "from tqdm import tqdm\n",
    "\n",
    "batch_size = 512\n",
    "lcache_dataloader = DataLoader(lcache_dataset,batch_size=batch_size)\n",
    "dsets_dataloader = DataLoader(dsets_dataset,batch_size=batch_size)\n",
    "\n",
    "beg = time()\n",
    "for i in tqdm(lcache_dataloader):\n",
    "    data = i \n",
    "dur = beg - time()\n",
    "\n",
    "\n",
    "beg = time()\n",
    "for i in tqdm(dsets_dataloader):\n",
    "    data = i \n",
    "dur_ = beg - time()\n",
    "\n",
    "print(dur,dur_)"
   ]
  }
 ],
 "metadata": {
  "kernelspec": {
   "display_name": "Python 3",
   "language": "python",
   "name": "python3"
  },
  "language_info": {
   "codemirror_mode": {
    "name": "ipython",
    "version": 3
   },
   "file_extension": ".py",
   "mimetype": "text/x-python",
   "name": "python",
   "nbconvert_exporter": "python",
   "pygments_lexer": "ipython3",
   "version": "3.8.10 (default, Sep 28 2021, 16:10:42) \n[GCC 9.3.0]"
  },
  "orig_nbformat": 4,
  "vscode": {
   "interpreter": {
    "hash": "31f2aee4e71d21fbe5cf8b01ff0e069b9275f58929596ceb00d14d90e3e16cd6"
   }
  }
 },
 "nbformat": 4,
 "nbformat_minor": 2
}
